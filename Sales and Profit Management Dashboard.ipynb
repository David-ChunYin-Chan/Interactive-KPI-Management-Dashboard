{
 "cells": [
  {
   "cell_type": "markdown",
   "id": "96afb561",
   "metadata": {},
   "source": [
    "# Interactive KPI Management Dashboard\n",
    "\n",
    "## Introduction\n",
    "In the dynamic landscape of business, an interactive dashboard for Key Performance Indicator (KPI) management is indispensable for companies seeking to thrive and adapt. Such dashboards provide visually intuitive representation of crucial metrics, allowing executives and decision-makers to swiftly grasp the pulse of their organization. <br>\n",
    "In this project, we are going to use Tableau to create an interactive dashboard to visualize the sales and profit of a superstore across the states and conclude some insights from the dashboard.\n",
    "\n",
    "## Acknowledgement\n",
    "This project is inspired by Emily Kund in the Coursera's guided project 'Creating an Interactive KPI Management Dashboard in Tableau', where the sample dataset is also retrieved from the guided project. For more details, visit https://www.coursera.org/projects/interactive-kpi-tableau-dashboard. <br>\n",
    "\n",
    "## Snapshot\n",
    "The complete dashboard can be accessed on https://public.tableau.com/views/SalesandProfitManagementDashboard_17025797095140/SalesandProfitManagementDashboard?:language=en-US&:display_count=n&:origin=viz_share_link <br> <br>\n",
    "<img src="Sales and Profit Management Dashboard.png"/>",
    "\n",
    "## Insights\n",
    "### 1. Overall Performance\n",
    "From the state map, we can see the company gained profit or did not suffer loss in most of the states in 2021. However, the performance was not satisfactory when we look at the comparison of current YTD sales and profit to prior YTD. Only the south region demonstrated a growth in profit compared with last year while all other regions failed the meet past year YTD sales and profit target. Especially the central region, the fact that having sales over $100k but only having ~$1k of profit is worth noticing. Actions should be taken to boost not only the sales, but also the profit margin.\n",
    "\n",
    "### 2. Seasonality\n",
    "We can observe that the sales and profit was generally higher in fall and winter (after Sep) in 2021. One of the reasons may be sales boost in holidays such as Black Friday and X'mas in the period. Another reason may be the eCommerce trends happened during pandemic time. One may further compare year-to-year data to see if the sales and profit demonstrated seasonality during fall and winter times.\n",
    "\n",
    "### 3. Abnormal Spike in Sales-Time Graph\n",
    "It is worth noticing that there was a spike in sales of \\\\$28k on 18 March while there was no corresponding spike/increase in profit. After looking into details of each state, we find that the spike came from Florida and the corresponding profit on that day is -\\\\$2k, which differed from the average significantly. Further investigation on data and the management in Florida should be conducted to see the reasons behind."
   ]
  }
 ],
 "metadata": {
  "kernelspec": {
   "display_name": "Python 3 (ipykernel)",
   "language": "python",
   "name": "python3"
  },
  "language_info": {
   "codemirror_mode": {
    "name": "ipython",
    "version": 3
   },
   "file_extension": ".py",
   "mimetype": "text/x-python",
   "name": "python",
   "nbconvert_exporter": "python",
   "pygments_lexer": "ipython3",
   "version": "3.9.12"
  }
 },
 "nbformat": 4,
 "nbformat_minor": 5
}
